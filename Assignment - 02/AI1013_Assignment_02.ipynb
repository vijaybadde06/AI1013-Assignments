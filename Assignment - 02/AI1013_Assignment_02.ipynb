{
  "nbformat": 4,
  "nbformat_minor": 0,
  "metadata": {
    "colab": {
      "provenance": []
    },
    "kernelspec": {
      "name": "python3",
      "display_name": "Python 3"
    },
    "language_info": {
      "name": "python"
    }
  },
  "cells": [
    {
      "cell_type": "markdown",
      "source": [
        "## Importing Packages"
      ],
      "metadata": {
        "id": "RcNXTDLVsl8t"
      }
    },
    {
      "cell_type": "code",
      "execution_count": 290,
      "metadata": {
        "id": "p4xCx92kr0IT"
      },
      "outputs": [],
      "source": [
        "import numpy as np\n",
        "import pandas as pd\n",
        "import matplotlib.pyplot as plt\n",
        "import scipy.stats as st\n",
        "import gdown as gd\n",
        "from sklearn.model_selection import train_test_split\n",
        "\n",
        "# For purely aesthetic reasons\n",
        "from matplotlib import cm"
      ]
    },
    {
      "cell_type": "markdown",
      "source": [
        "# 1) Training an Artificial Neural Network"
      ],
      "metadata": {
        "id": "L2RivJIEbBMR"
      }
    },
    {
      "cell_type": "markdown",
      "source": [
        "## Dataset Preparation"
      ],
      "metadata": {
        "id": "QxOjkewkbM02"
      }
    },
    {
      "cell_type": "markdown",
      "source": [
        "First, using `pandas` and `Gdown`, we load the given dataset data_Q1.csv into `data_Q1_df`."
      ],
      "metadata": {
        "id": "wX3smBc1cjPe"
      }
    },
    {
      "cell_type": "code",
      "source": [
        "data_Q1_df = pd.read_csv(gd.download(f\"https://drive.google.com/uc?id=106QVlX_0sycr-sIURNCXUy-2kE35WyjG\", \"data_Q1.csv\", quiet=False))"
      ],
      "metadata": {
        "colab": {
          "base_uri": "https://localhost:8080/"
        },
        "id": "fjN6ckykb3av",
        "outputId": "0602ce74-193c-40c3-c24f-322d8e97e39d"
      },
      "execution_count": 57,
      "outputs": [
        {
          "output_type": "stream",
          "name": "stderr",
          "text": [
            "Downloading...\n",
            "From: https://drive.google.com/uc?id=106QVlX_0sycr-sIURNCXUy-2kE35WyjG\n",
            "To: /content/data_Q1.csv\n",
            "100%|██████████| 8.47k/8.47k [00:00<00:00, 16.9MB/s]\n"
          ]
        }
      ]
    },
    {
      "cell_type": "markdown",
      "source": [
        "Then, using the `.to_numpy()` method, we convert each column of the dataframe into a NumPy array, and store them in arrays named `training_x1`, `training_x2`, and `training_y` respectively. Let $N$ denote the length of each array."
      ],
      "metadata": {
        "id": "FRilXiw-czJL"
      }
    },
    {
      "cell_type": "code",
      "source": [
        "training_x1 = data_Q1_df.iloc[:, 0].to_numpy()  # First column\n",
        "training_x2 = data_Q1_df.iloc[:, 1].to_numpy()  # Second column\n",
        "training_y = data_Q1_df.iloc[:, 2].to_numpy()  # Third column\n",
        "training_y = training_y.reshape(-1, 1)  # Reshape to a column vector\n",
        "N = len(training_x1)\n",
        "\n",
        "print(N)"
      ],
      "metadata": {
        "colab": {
          "base_uri": "https://localhost:8080/"
        },
        "id": "n5ujA1FmdOQF",
        "outputId": "8cca0cb6-e95c-4f4b-e794-723bcff2dd55"
      },
      "execution_count": 58,
      "outputs": [
        {
          "output_type": "stream",
          "name": "stdout",
          "text": [
            "200\n"
          ]
        }
      ]
    },
    {
      "cell_type": "markdown",
      "source": [
        "We create a new NumPy array by pairing up `training_x1` and `training_x2`."
      ],
      "metadata": {
        "id": "hhAo7tdQeCiW"
      }
    },
    {
      "cell_type": "code",
      "source": [
        "training_x = np.array([[x1,x2,1] for x1,x2 in zip(training_x1,training_x2)])"
      ],
      "metadata": {
        "id": "10PrY3ipd6BB"
      },
      "execution_count": 59,
      "outputs": []
    },
    {
      "cell_type": "markdown",
      "source": [
        "## Preliminaries"
      ],
      "metadata": {
        "id": "MWO1DDE4ndk6"
      }
    },
    {
      "cell_type": "markdown",
      "source": [
        "This neural network consists of one _input_ layer with 2 nodes, one _hidden_ layer with 3 nodes, and an _output_ layer. Below is the model for this neural network:\n",
        "$$X\\overset{W^{(1)}}{\\longrightarrow}H\\overset{\\sigma}{\\longrightarrow}Z\\overset{W^{(2)}}{\\longrightarrow}O\\overset{\\sigma}{\\longrightarrow}\\hat{y}.$$"
      ],
      "metadata": {
        "id": "jtx1OHRnng--"
      }
    },
    {
      "cell_type": "markdown",
      "source": [
        "Here:\n",
        "- $X$ is the input data.\n",
        "- $W^{(1)}=\\left\\{W^{(1)}_{k,l}:k,l\\in\\{1,2,3\\}\\right\\}$ is a weight matrix connecting the input layer to the hidden layer.\n",
        "- $W^{(2)}=\\left\\{W^{(2)}_{k,l}:k,l\\in\\{1,2,3\\}\\right\\}$ is a weight matrix connecting the hidden layer to the output layer.\n",
        "- $\\sigma$ represents the `sigmoid` function, defined in the next section.\n",
        "- $H = X \\times W^{(1)}$ is an $N\\times3$ matrix obtained at the hidden layer, before the activation function is applied.\n",
        "- $Z$ is an $N\\times4$ matrix obtained in the _hidden_ layer by applying the activation function on $H$, followed by appending a _bias_ column to the end.\n",
        "- $O=X\\times W^{(2)}$ is an $N\\times1$ matrix obtained at the output layer, which on applying the activation function to, becomes $\\hat{y}$, an $N\\times1$ matrix, containing the predicted values."
      ],
      "metadata": {
        "id": "amLTFSEMqv9a"
      }
    },
    {
      "cell_type": "markdown",
      "source": [
        "To measure the performance of our neural network, we use _mean-squared error-loss_, defined as $$\\mathcal{L}(Y,\\hat{y}):=\\frac{1}{2N}\\sum^N_{i=1}(Y_i-\\hat{y_i})^2,$$ where $N$ is the number of datapoints, $Y_i$ represents the true value, and $\\hat{y_i}$ represents the predicted value for the $i^{th}$ datapoint."
      ],
      "metadata": {
        "id": "KLY9QWVPukwu"
      }
    },
    {
      "cell_type": "markdown",
      "source": [
        "## Definitions and Initializations"
      ],
      "metadata": {
        "id": "4NF-Uc0JgJT1"
      }
    },
    {
      "cell_type": "markdown",
      "source": [
        "Define `sigmoid`, which takes one single input $x$ and returns $\\frac{1}{1-e^{-x}}$, and `grad_sigmoid`, which takes a simgle input $s$ and returns the derivative of $\\sigma(x)$."
      ],
      "metadata": {
        "id": "OzXpKYgOgUoW"
      }
    },
    {
      "cell_type": "code",
      "source": [
        "def sigmoid(x):\n",
        "    return 1 / (1 + np.exp(-x))\n",
        "\n",
        "def grad_sigmoid(x):\n",
        "    return sigmoid(x) * (1 - sigmoid(x))"
      ],
      "metadata": {
        "id": "T7IgR1CvgRVa"
      },
      "execution_count": 60,
      "outputs": []
    },
    {
      "cell_type": "markdown",
      "source": [
        "Initialize weight matrices $W_1$ and $W_2$."
      ],
      "metadata": {
        "id": "PaKHRU5ehfas"
      }
    },
    {
      "cell_type": "code",
      "source": [
        "np.random.seed(123)\n",
        "weights1 = np.random.uniform(-1, 1, (3, 3))\n",
        "weights2 = np.random.uniform(-1, 1, (4, 1))\n",
        "\n",
        "# The following lines have been used purely for debugging/verification\n",
        "print(weights1)\n",
        "print(weights2)"
      ],
      "metadata": {
        "id": "trbF18EQhkPq",
        "colab": {
          "base_uri": "https://localhost:8080/"
        },
        "outputId": "56716251-6326-4e4d-d672-26f010324909"
      },
      "execution_count": 61,
      "outputs": [
        {
          "output_type": "stream",
          "name": "stdout",
          "text": [
            "[[ 0.39293837 -0.42772133 -0.54629709]\n",
            " [ 0.10262954  0.43893794 -0.15378708]\n",
            " [ 0.9615284   0.36965948 -0.0381362 ]]\n",
            "[[-0.21576496]\n",
            " [-0.31364397]\n",
            " [ 0.45809941]\n",
            " [-0.12285551]]\n"
          ]
        }
      ]
    },
    {
      "cell_type": "markdown",
      "source": [
        "Initialize the learning rate, $\\gamma$, to 0.05, ant the number of passes, `max_epochs`, to 100."
      ],
      "metadata": {
        "id": "KxPJRMYzhrnn"
      }
    },
    {
      "cell_type": "code",
      "source": [
        "gamma = 0.05\n",
        "max_epochs = 100"
      ],
      "metadata": {
        "id": "FMoscEPOhrV3"
      },
      "execution_count": 62,
      "outputs": []
    },
    {
      "cell_type": "markdown",
      "source": [
        "Create an empty array to store the training errors after each epoch. Name the array `training_error`."
      ],
      "metadata": {
        "id": "NhFuMmbeie_E"
      }
    },
    {
      "cell_type": "code",
      "source": [
        "training_error=[]"
      ],
      "metadata": {
        "id": "jExqKdT1ij-h"
      },
      "execution_count": 63,
      "outputs": []
    },
    {
      "cell_type": "markdown",
      "source": [
        "## Training the Neural Network"
      ],
      "metadata": {
        "id": "xVvP4CcEiprb"
      }
    },
    {
      "cell_type": "markdown",
      "source": [
        "We first implement the forward pass, and loss calculation, before storing the loss in `training_error`. Then,"
      ],
      "metadata": {
        "id": "wvFIIMAwiuJs"
      }
    },
    {
      "cell_type": "code",
      "source": [
        "for epoch in range(max_epochs):\n",
        "\n",
        "    #---------- Forward Pass ----------\n",
        "\n",
        "    # Initialize X to training_x\n",
        "    X = training_x\n",
        "\n",
        "    # Hidden Layer pre-activation\n",
        "    H = X @ weights1\n",
        "\n",
        "    # Hidden Layer activation\n",
        "    Z = sigmoid(H)\n",
        "\n",
        "    # Append Bias Column\n",
        "    Z = np.hstack((Z, np.ones((Z.shape[0], 1))))\n",
        "\n",
        "    # Output Layer pre-activation\n",
        "    O = Z @ weights2\n",
        "\n",
        "    # Output Layer activation\n",
        "    y_cap = sigmoid(O)\n",
        "\n",
        "    # Compute Loss, and append to training_error\n",
        "    loss = (1 / (2 * len(training_y))) * np.sum((training_y - y_cap) ** 2)\n",
        "    training_error.append(loss)\n",
        "\n",
        "    #---------- Backpropagation ----------\n",
        "\n",
        "    # Compute gradient for weights2\n",
        "    temp2 = -(training_y - y_cap) * grad_sigmoid(O)\n",
        "    gradient2 = Z.T @ temp2\n",
        "    gradient2 /= len(training_y)\n",
        "\n",
        "    # Compute gradient for weights1\n",
        "    temp = -(training_y - y_cap) * grad_sigmoid(O) * grad_sigmoid(H)\n",
        "    temp = temp @ np.diag(weights2[:-1].reshape(-1))\n",
        "    gradient1 = training_x.T @ temp\n",
        "    gradient1 /= len(training_y)\n",
        "\n",
        "    # Update weights using gradient descent\n",
        "    weights2 -= gamma * gradient2\n",
        "    weights1 -= gamma * gradient1\n",
        "\n",
        "    # The following lines have been used purely for debugging/verification\n",
        "    if epoch % 10 == 0:\n",
        "        print(f\"Epoch {epoch}: Loss = {loss:.6f}\")"
      ],
      "metadata": {
        "id": "UhDtAn65mtOR",
        "colab": {
          "base_uri": "https://localhost:8080/"
        },
        "outputId": "f8876a60-c35e-4fb8-c1e9-de68dcaa5494"
      },
      "execution_count": 64,
      "outputs": [
        {
          "output_type": "stream",
          "name": "stdout",
          "text": [
            "Epoch 0: Loss = 0.123883\n",
            "Epoch 10: Loss = 0.123856\n",
            "Epoch 20: Loss = 0.123832\n",
            "Epoch 30: Loss = 0.123811\n",
            "Epoch 40: Loss = 0.123792\n",
            "Epoch 50: Loss = 0.123776\n",
            "Epoch 60: Loss = 0.123761\n",
            "Epoch 70: Loss = 0.123748\n",
            "Epoch 80: Loss = 0.123736\n",
            "Epoch 90: Loss = 0.123726\n"
          ]
        }
      ]
    },
    {
      "cell_type": "markdown",
      "source": [
        "## Plotting the Training Loss"
      ],
      "metadata": {
        "id": "U9yyTv-EB9gZ"
      }
    },
    {
      "cell_type": "markdown",
      "source": [
        "We use `matplotlib.pyplot` to plot the training loss, with the training loss on the $y$-axis, and the epochs on the $x$-axis."
      ],
      "metadata": {
        "id": "c1PRboyTCIFP"
      }
    },
    {
      "cell_type": "code",
      "source": [
        "# Custom-made part for aesthetics, does not affect the actual data\n",
        "n = len(training_error)\n",
        "partway = n // 4\n",
        "colors_first_half = cm.twilight(np.linspace(0.5, 0.75, partway))\n",
        "colors_second_half = cm.twilight(np.linspace(0.75, 0.25, n- partway))\n",
        "colors = np.concatenate([colors_first_half, colors_second_half])\n",
        "# Custom-made part ends\n",
        "\n",
        "plt.scatter(range(max_epochs), training_error, color=colors, s=7)\n",
        "\n",
        "plt.xlabel(\"Epochs\")\n",
        "plt.ylabel(\"Training Loss\")\n",
        "plt.title(\"Training Loss Over Epochs\")\n",
        "plt.grid(True, alpha = 0.5)\n",
        "plt.show()"
      ],
      "metadata": {
        "colab": {
          "base_uri": "https://localhost:8080/",
          "height": 472
        },
        "id": "mAS3W5idCgBu",
        "outputId": "9bc26946-5663-4249-cbbf-fd7a46a350aa"
      },
      "execution_count": 287,
      "outputs": [
        {
          "output_type": "display_data",
          "data": {
            "text/plain": [
              "<Figure size 640x480 with 1 Axes>"
            ],
            "image/png": "[encoded data removed]"
          },
          "metadata": {}
        }
      ]
    },
    {
      "cell_type": "markdown",
      "source": [
        "# Classification using the $k$-Nearest Neighbours Technique"
      ],
      "metadata": {
        "id": "4ahM8daliFoM"
      }
    },
    {
      "cell_type": "markdown",
      "source": [
        "## Data Pre-Processing and Cleaning"
      ],
      "metadata": {
        "id": "emSJsPH-jIfs"
      }
    },
    {
      "cell_type": "markdown",
      "source": [
        "We create an array named `column_names`, containing the names of the columns of the dataset, since they were not a part of the original .csv file. Using this array and the url, we import the dataset into a dataframe named `abalone_df`."
      ],
      "metadata": {
        "id": "Lb3cNpQxiQmV"
      }
    },
    {
      "cell_type": "code",
      "source": [
        "url = 'https://archive.ics.uci.edu/ml/machine-learning-databases/abalone/abalone.data'\n",
        "\n",
        "# Create the column_names array\n",
        "column_names = ['Sex', 'Length', 'Diameter', 'Height', 'WholeWeight','ShuckedWeight', 'VisceraWeight', 'ShellWeight', 'Rings']\n",
        "\n",
        "# Read the dataset\n",
        "abalone_df = pd.read_csv(url, header=None, names=column_names)\n",
        "\n",
        "# The following line has been used purely for debugging/verification\n",
        "abalone_df.head()"
      ],
      "metadata": {
        "colab": {
          "base_uri": "https://localhost:8080/",
          "height": 206
        },
        "id": "jxqT80thiZ-s",
        "outputId": "40be9909-8efb-439a-dfaf-cea29dbd7b2b"
      },
      "execution_count": 66,
      "outputs": [
        {
          "output_type": "execute_result",
          "data": {
            "text/plain": [
              "  Sex  Length  Diameter  Height  WholeWeight  ShuckedWeight  VisceraWeight  \\\n",
              "0   M   0.455     0.365   0.095       0.5140         0.2245         0.1010   \n",
              "1   M   0.350     0.265   0.090       0.2255         0.0995         0.0485   \n",
              "2   F   0.530     0.420   0.135       0.6770         0.2565         0.1415   \n",
              "3   M   0.440     0.365   0.125       0.5160         0.2155         0.1140   \n",
              "4   I   0.330     0.255   0.080       0.2050         0.0895         0.0395   \n",
              "\n",
              "   ShellWeight  Rings  \n",
              "0        0.150     15  \n",
              "1        0.070      7  \n",
              "2        0.210      9  \n",
              "3        0.155     10  \n",
              "4        0.055      7  "
            ],
            "text/html": [
              "\n",
              "  <div id=\"df-dc9a0d2e-01c6-4c04-a2e5-e500fbcf3c22\" class=\"colab-df-container\">\n",
              "    <div>\n",
              "<style scoped>\n",
              "    .dataframe tbody tr th:only-of-type {\n",
              "        vertical-align: middle;\n",
              "    }\n",
              "\n",
              "    .dataframe tbody tr th {\n",
              "        vertical-align: top;\n",
              "    }\n",
              "\n",
              "    .dataframe thead th {\n",
              "        text-align: right;\n",
              "    }\n",
              "</style>\n",
              "<table border=\"1\" class=\"dataframe\">\n",
              "  <thead>\n",
              "    <tr style=\"text-align: right;\">\n",
              "      <th></th>\n",
              "      <th>Sex</th>\n",
              "      <th>Length</th>\n",
              "      <th>Diameter</th>\n",
              "      <th>Height</th>\n",
              "      <th>WholeWeight</th>\n",
              "      <th>ShuckedWeight</th>\n",
              "      <th>VisceraWeight</th>\n",
              "      <th>ShellWeight</th>\n",
              "      <th>Rings</th>\n",
              "    </tr>\n",
              "  </thead>\n",
              "  <tbody>\n",
              "    <tr>\n",
              "      <th>0</th>\n",
              "      <td>M</td>\n",
              "      <td>0.455</td>\n",
              "      <td>0.365</td>\n",
              "      <td>0.095</td>\n",
              "      <td>0.5140</td>\n",
              "      <td>0.2245</td>\n",
              "      <td>0.1010</td>\n",
              "      <td>0.150</td>\n",
              "      <td>15</td>\n",
              "    </tr>\n",
              "    <tr>\n",
              "      <th>1</th>\n",
              "      <td>M</td>\n",
              "      <td>0.350</td>\n",
              "      <td>0.265</td>\n",
              "      <td>0.090</td>\n",
              "      <td>0.2255</td>\n",
              "      <td>0.0995</td>\n",
              "      <td>0.0485</td>\n",
              "      <td>0.070</td>\n",
              "      <td>7</td>\n",
              "    </tr>\n",
              "    <tr>\n",
              "      <th>2</th>\n",
              "      <td>F</td>\n",
              "      <td>0.530</td>\n",
              "      <td>0.420</td>\n",
              "      <td>0.135</td>\n",
              "      <td>0.6770</td>\n",
              "      <td>0.2565</td>\n",
              "      <td>0.1415</td>\n",
              "      <td>0.210</td>\n",
              "      <td>9</td>\n",
              "    </tr>\n",
              "    <tr>\n",
              "      <th>3</th>\n",
              "      <td>M</td>\n",
              "      <td>0.440</td>\n",
              "      <td>0.365</td>\n",
              "      <td>0.125</td>\n",
              "      <td>0.5160</td>\n",
              "      <td>0.2155</td>\n",
              "      <td>0.1140</td>\n",
              "      <td>0.155</td>\n",
              "      <td>10</td>\n",
              "    </tr>\n",
              "    <tr>\n",
              "      <th>4</th>\n",
              "      <td>I</td>\n",
              "      <td>0.330</td>\n",
              "      <td>0.255</td>\n",
              "      <td>0.080</td>\n",
              "      <td>0.2050</td>\n",
              "      <td>0.0895</td>\n",
              "      <td>0.0395</td>\n",
              "      <td>0.055</td>\n",
              "      <td>7</td>\n",
              "    </tr>\n",
              "  </tbody>\n",
              "</table>\n",
              "</div>\n",
              "    <div class=\"colab-df-buttons\">\n",
              "\n",
              "  <div class=\"colab-df-container\">\n",
              "    <button class=\"colab-df-convert\" onclick=\"convertToInteractive('df-dc9a0d2e-01c6-4c04-a2e5-e500fbcf3c22')\"\n",
              "            title=\"Convert this dataframe to an interactive table.\"\n",
              "            style=\"display:none;\">\n",
              "\n",
              "  <svg xmlns=\"http://www.w3.org/2000/svg\" height=\"24px\" viewBox=\"0 -960 960 960\">\n",
              "    <path d=\"M120-120v-720h720v720H120Zm60-500h600v-160H180v160Zm220 220h160v-160H400v160Zm0 220h160v-160H400v160ZM180-400h160v-160H180v160Zm440 0h160v-160H620v160ZM180-180h160v-160H180v160Zm440 0h160v-160H620v160Z\"/>\n",
              "  </svg>\n",
              "    </button>\n",
              "\n",
              "  <style>\n",
              "    .colab-df-container {\n",
              "      display:flex;\n",
              "      gap: 12px;\n",
              "    }\n",
              "\n",
              "    .colab-df-convert {\n",
              "      background-color: #E8F0FE;\n",
              "      border: none;\n",
              "      border-radius: 50%;\n",
              "      cursor: pointer;\n",
              "      display: none;\n",
              "      fill: #1967D2;\n",
              "      height: 32px;\n",
              "      padding: 0 0 0 0;\n",
              "      width: 32px;\n",
              "    }\n",
              "\n",
              "    .colab-df-convert:hover {\n",
              "      background-color: #E2EBFA;\n",
              "      box-shadow: 0px 1px 2px rgba(60, 64, 67, 0.3), 0px 1px 3px 1px rgba(60, 64, 67, 0.15);\n",
              "      fill: #174EA6;\n",
              "    }\n",
              "\n",
              "    .colab-df-buttons div {\n",
              "      margin-bottom: 4px;\n",
              "    }\n",
              "\n",
              "    [theme=dark] .colab-df-convert {\n",
              "      background-color: #3B4455;\n",
              "      fill: #D2E3FC;\n",
              "    }\n",
              "\n",
              "    [theme=dark] .colab-df-convert:hover {\n",
              "      background-color: #434B5C;\n",
              "      box-shadow: 0px 1px 3px 1px rgba(0, 0, 0, 0.15);\n",
              "      filter: drop-shadow(0px 1px 2px rgba(0, 0, 0, 0.3));\n",
              "      fill: #FFFFFF;\n",
              "    }\n",
              "  </style>\n",
              "\n",
              "    <script>\n",
              "      const buttonEl =\n",
              "        document.querySelector('#df-dc9a0d2e-01c6-4c04-a2e5-e500fbcf3c22 button.colab-df-convert');\n",
              "      buttonEl.style.display =\n",
              "        google.colab.kernel.accessAllowed ? 'block' : 'none';\n",
              "\n",
              "      async function convertToInteractive(key) {\n",
              "        const element = document.querySelector('#df-dc9a0d2e-01c6-4c04-a2e5-e500fbcf3c22');\n",
              "        const dataTable =\n",
              "          await google.colab.kernel.invokeFunction('convertToInteractive',\n",
              "                                                    [key], {});\n",
              "        if (!dataTable) return;\n",
              "\n",
              "        const docLinkHtml = 'Like what you see? Visit the ' +\n",
              "          '<a target=\"_blank\" href=https://colab.research.google.com/notebooks/data_table.ipynb>data table notebook</a>'\n",
              "          + ' to learn more about interactive tables.';\n",
              "        element.innerHTML = '';\n",
              "        dataTable['output_type'] = 'display_data';\n",
              "        await google.colab.output.renderOutput(dataTable, element);\n",
              "        const docLink = document.createElement('div');\n",
              "        docLink.innerHTML = docLinkHtml;\n",
              "        element.appendChild(docLink);\n",
              "      }\n",
              "    </script>\n",
              "  </div>\n",
              "\n",
              "\n",
              "<div id=\"df-b693df81-7464-465c-8673-907d05ab2091\">\n",
              "  <button class=\"colab-df-quickchart\" onclick=\"quickchart('df-b693df81-7464-465c-8673-907d05ab2091')\"\n",
              "            title=\"Suggest charts\"\n",
              "            style=\"display:none;\">\n",
              "\n",
              "<svg xmlns=\"http://www.w3.org/2000/svg\" height=\"24px\"viewBox=\"0 0 24 24\"\n",
              "     width=\"24px\">\n",
              "    <g>\n",
              "        <path d=\"M19 3H5c-1.1 0-2 .9-2 2v14c0 1.1.9 2 2 2h14c1.1 0 2-.9 2-2V5c0-1.1-.9-2-2-2zM9 17H7v-7h2v7zm4 0h-2V7h2v10zm4 0h-2v-4h2v4z\"/>\n",
              "    </g>\n",
              "</svg>\n",
              "  </button>\n",
              "\n",
              "<style>\n",
              "  .colab-df-quickchart {\n",
              "      --bg-color: #E8F0FE;\n",
              "      --fill-color: #1967D2;\n",
              "      --hover-bg-color: #E2EBFA;\n",
              "      --hover-fill-color: #174EA6;\n",
              "      --disabled-fill-color: #AAA;\n",
              "      --disabled-bg-color: #DDD;\n",
              "  }\n",
              "\n",
              "  [theme=dark] .colab-df-quickchart {\n",
              "      --bg-color: #3B4455;\n",
              "      --fill-color: #D2E3FC;\n",
              "      --hover-bg-color: #434B5C;\n",
              "      --hover-fill-color: #FFFFFF;\n",
              "      --disabled-bg-color: #3B4455;\n",
              "      --disabled-fill-color: #666;\n",
              "  }\n",
              "\n",
              "  .colab-df-quickchart {\n",
              "    background-color: var(--bg-color);\n",
              "    border: none;\n",
              "    border-radius: 50%;\n",
              "    cursor: pointer;\n",
              "    display: none;\n",
              "    fill: var(--fill-color);\n",
              "    height: 32px;\n",
              "    padding: 0;\n",
              "    width: 32px;\n",
              "  }\n",
              "\n",
              "  .colab-df-quickchart:hover {\n",
              "    background-color: var(--hover-bg-color);\n",
              "    box-shadow: 0 1px 2px rgba(60, 64, 67, 0.3), 0 1px 3px 1px rgba(60, 64, 67, 0.15);\n",
              "    fill: var(--button-hover-fill-color);\n",
              "  }\n",
              "\n",
              "  .colab-df-quickchart-complete:disabled,\n",
              "  .colab-df-quickchart-complete:disabled:hover {\n",
              "    background-color: var(--disabled-bg-color);\n",
              "    fill: var(--disabled-fill-color);\n",
              "    box-shadow: none;\n",
              "  }\n",
              "\n",
              "  .colab-df-spinner {\n",
              "    border: 2px solid var(--fill-color);\n",
              "    border-color: transparent;\n",
              "    border-bottom-color: var(--fill-color);\n",
              "    animation:\n",
              "      spin 1s steps(1) infinite;\n",
              "  }\n",
              "\n",
              "  @keyframes spin {\n",
              "    0% {\n",
              "      border-color: transparent;\n",
              "      border-bottom-color: var(--fill-color);\n",
              "      border-left-color: var(--fill-color);\n",
              "    }\n",
              "    20% {\n",
              "      border-color: transparent;\n",
              "      border-left-color: var(--fill-color);\n",
              "      border-top-color: var(--fill-color);\n",
              "    }\n",
              "    30% {\n",
              "      border-color: transparent;\n",
              "      border-left-color: var(--fill-color);\n",
              "      border-top-color: var(--fill-color);\n",
              "      border-right-color: var(--fill-color);\n",
              "    }\n",
              "    40% {\n",
              "      border-color: transparent;\n",
              "      border-right-color: var(--fill-color);\n",
              "      border-top-color: var(--fill-color);\n",
              "    }\n",
              "    60% {\n",
              "      border-color: transparent;\n",
              "      border-right-color: var(--fill-color);\n",
              "    }\n",
              "    80% {\n",
              "      border-color: transparent;\n",
              "      border-right-color: var(--fill-color);\n",
              "      border-bottom-color: var(--fill-color);\n",
              "    }\n",
              "    90% {\n",
              "      border-color: transparent;\n",
              "      border-bottom-color: var(--fill-color);\n",
              "    }\n",
              "  }\n",
              "</style>\n",
              "\n",
              "  <script>\n",
              "    async function quickchart(key) {\n",
              "      const quickchartButtonEl =\n",
              "        document.querySelector('#' + key + ' button');\n",
              "      quickchartButtonEl.disabled = true;  // To prevent multiple clicks.\n",
              "      quickchartButtonEl.classList.add('colab-df-spinner');\n",
              "      try {\n",
              "        const charts = await google.colab.kernel.invokeFunction(\n",
              "            'suggestCharts', [key], {});\n",
              "      } catch (error) {\n",
              "        console.error('Error during call to suggestCharts:', error);\n",
              "      }\n",
              "      quickchartButtonEl.classList.remove('colab-df-spinner');\n",
              "      quickchartButtonEl.classList.add('colab-df-quickchart-complete');\n",
              "    }\n",
              "    (() => {\n",
              "      let quickchartButtonEl =\n",
              "        document.querySelector('#df-b693df81-7464-465c-8673-907d05ab2091 button');\n",
              "      quickchartButtonEl.style.display =\n",
              "        google.colab.kernel.accessAllowed ? 'block' : 'none';\n",
              "    })();\n",
              "  </script>\n",
              "</div>\n",
              "\n",
              "    </div>\n",
              "  </div>\n"
            ],
            "application/vnd.google.colaboratory.intrinsic+json": {
              "type": "dataframe",
              "variable_name": "abalone_df",
              "summary": "{\n  \"name\": \"abalone_df\",\n  \"rows\": 4177,\n  \"fields\": [\n    {\n      \"column\": \"Sex\",\n      \"properties\": {\n        \"dtype\": \"category\",\n        \"num_unique_values\": 3,\n        \"samples\": [\n          \"M\",\n          \"F\",\n          \"I\"\n        ],\n        \"semantic_type\": \"\",\n        \"description\": \"\"\n      }\n    },\n    {\n      \"column\": \"Length\",\n      \"properties\": {\n        \"dtype\": \"number\",\n        \"std\": 0.12009291256479998,\n        \"min\": 0.075,\n        \"max\": 0.815,\n        \"num_unique_values\": 134,\n        \"samples\": [\n          0.815,\n          0.65,\n          0.29\n        ],\n        \"semantic_type\": \"\",\n        \"description\": \"\"\n      }\n    },\n    {\n      \"column\": \"Diameter\",\n      \"properties\": {\n        \"dtype\": \"number\",\n        \"std\": 0.09923986613365918,\n        \"min\": 0.055,\n        \"max\": 0.65,\n        \"num_unique_values\": 111,\n        \"samples\": [\n          0.09,\n          0.35,\n          0.3\n        ],\n        \"semantic_type\": \"\",\n        \"description\": \"\"\n      }\n    },\n    {\n      \"column\": \"Height\",\n      \"properties\": {\n        \"dtype\": \"number\",\n        \"std\": 0.04182705660725703,\n        \"min\": 0.0,\n        \"max\": 1.13,\n        \"num_unique_values\": 51,\n        \"samples\": [\n          0.235,\n          0.035,\n          0.015\n        ],\n        \"semantic_type\": \"\",\n        \"description\": \"\"\n      }\n    },\n    {\n      \"column\": \"WholeWeight\",\n      \"properties\": {\n        \"dtype\": \"number\",\n        \"std\": 0.49038901823099723,\n        \"min\": 0.002,\n        \"max\": 2.8255,\n        \"num_unique_values\": 2429,\n        \"samples\": [\n          1.2825,\n          1.09,\n          0.131\n        ],\n        \"semantic_type\": \"\",\n        \"description\": \"\"\n      }\n    },\n    {\n      \"column\": \"ShuckedWeight\",\n      \"properties\": {\n        \"dtype\": \"number\",\n        \"std\": 0.22196294903322014,\n        \"min\": 0.001,\n        \"max\": 1.488,\n        \"num_unique_values\": 1515,\n        \"samples\": [\n          0.2105,\n          0.0645,\n          0.476\n        ],\n        \"semantic_type\": \"\",\n        \"description\": \"\"\n      }\n    },\n    {\n      \"column\": \"VisceraWeight\",\n      \"properties\": {\n        \"dtype\": \"number\",\n        \"std\": 0.10961425025968442,\n        \"min\": 0.0005,\n        \"max\": 0.76,\n        \"num_unique_values\": 880,\n        \"samples\": [\n          0.0645,\n          0.0095,\n          0.1115\n        ],\n        \"semantic_type\": \"\",\n        \"description\": \"\"\n      }\n    },\n    {\n      \"column\": \"ShellWeight\",\n      \"properties\": {\n        \"dtype\": \"number\",\n        \"std\": 0.13920266952238575,\n        \"min\": 0.0015,\n        \"max\": 1.005,\n        \"num_unique_values\": 926,\n        \"samples\": [\n          0.3745,\n          0.2825,\n          0.49\n        ],\n        \"semantic_type\": \"\",\n        \"description\": \"\"\n      }\n    },\n    {\n      \"column\": \"Rings\",\n      \"properties\": {\n        \"dtype\": \"number\",\n        \"std\": 3,\n        \"min\": 1,\n        \"max\": 29,\n        \"num_unique_values\": 28,\n        \"samples\": [\n          11,\n          27,\n          14\n        ],\n        \"semantic_type\": \"\",\n        \"description\": \"\"\n      }\n    }\n  ]\n}"
            }
          },
          "metadata": {},
          "execution_count": 66
        }
      ]
    },
    {
      "cell_type": "markdown",
      "source": [
        "Since the sex of the abalone does not directly influence its age, we remove this column from the DataFrame."
      ],
      "metadata": {
        "id": "51YlT5oSly3I"
      }
    },
    {
      "cell_type": "code",
      "source": [
        "abalone_df = abalone_df.drop(columns=[\"Sex\"])\n",
        "\n",
        "# The following line has been used purely for debugging/verification\n",
        "abalone_df.head()"
      ],
      "metadata": {
        "colab": {
          "base_uri": "https://localhost:8080/",
          "height": 206
        },
        "id": "-whKhQrDl-Rr",
        "outputId": "e7326991-637a-4e45-8080-ab0a05b1d407"
      },
      "execution_count": 67,
      "outputs": [
        {
          "output_type": "execute_result",
          "data": {
            "text/plain": [
              "   Length  Diameter  Height  WholeWeight  ShuckedWeight  VisceraWeight  \\\n",
              "0   0.455     0.365   0.095       0.5140         0.2245         0.1010   \n",
              "1   0.350     0.265   0.090       0.2255         0.0995         0.0485   \n",
              "2   0.530     0.420   0.135       0.6770         0.2565         0.1415   \n",
              "3   0.440     0.365   0.125       0.5160         0.2155         0.1140   \n",
              "4   0.330     0.255   0.080       0.2050         0.0895         0.0395   \n",
              "\n",
              "   ShellWeight  Rings  \n",
              "0        0.150     15  \n",
              "1        0.070      7  \n",
              "2        0.210      9  \n",
              "3        0.155     10  \n",
              "4        0.055      7  "
            ],
            "text/html": [
              "\n",
              "  <div id=\"df-518aacea-f7ca-42cd-8ca7-f68034c73c40\" class=\"colab-df-container\">\n",
              "    <div>\n",
              "<style scoped>\n",
              "    .dataframe tbody tr th:only-of-type {\n",
              "        vertical-align: middle;\n",
              "    }\n",
              "\n",
              "    .dataframe tbody tr th {\n",
              "        vertical-align: top;\n",
              "    }\n",
              "\n",
              "    .dataframe thead th {\n",
              "        text-align: right;\n",
              "    }\n",
              "</style>\n",
              "<table border=\"1\" class=\"dataframe\">\n",
              "  <thead>\n",
              "    <tr style=\"text-align: right;\">\n",
              "      <th></th>\n",
              "      <th>Length</th>\n",
              "      <th>Diameter</th>\n",
              "      <th>Height</th>\n",
              "      <th>WholeWeight</th>\n",
              "      <th>ShuckedWeight</th>\n",
              "      <th>VisceraWeight</th>\n",
              "      <th>ShellWeight</th>\n",
              "      <th>Rings</th>\n",
              "    </tr>\n",
              "  </thead>\n",
              "  <tbody>\n",
              "    <tr>\n",
              "      <th>0</th>\n",
              "      <td>0.455</td>\n",
              "      <td>0.365</td>\n",
              "      <td>0.095</td>\n",
              "      <td>0.5140</td>\n",
              "      <td>0.2245</td>\n",
              "      <td>0.1010</td>\n",
              "      <td>0.150</td>\n",
              "      <td>15</td>\n",
              "    </tr>\n",
              "    <tr>\n",
              "      <th>1</th>\n",
              "      <td>0.350</td>\n",
              "      <td>0.265</td>\n",
              "      <td>0.090</td>\n",
              "      <td>0.2255</td>\n",
              "      <td>0.0995</td>\n",
              "      <td>0.0485</td>\n",
              "      <td>0.070</td>\n",
              "      <td>7</td>\n",
              "    </tr>\n",
              "    <tr>\n",
              "      <th>2</th>\n",
              "      <td>0.530</td>\n",
              "      <td>0.420</td>\n",
              "      <td>0.135</td>\n",
              "      <td>0.6770</td>\n",
              "      <td>0.2565</td>\n",
              "      <td>0.1415</td>\n",
              "      <td>0.210</td>\n",
              "      <td>9</td>\n",
              "    </tr>\n",
              "    <tr>\n",
              "      <th>3</th>\n",
              "      <td>0.440</td>\n",
              "      <td>0.365</td>\n",
              "      <td>0.125</td>\n",
              "      <td>0.5160</td>\n",
              "      <td>0.2155</td>\n",
              "      <td>0.1140</td>\n",
              "      <td>0.155</td>\n",
              "      <td>10</td>\n",
              "    </tr>\n",
              "    <tr>\n",
              "      <th>4</th>\n",
              "      <td>0.330</td>\n",
              "      <td>0.255</td>\n",
              "      <td>0.080</td>\n",
              "      <td>0.2050</td>\n",
              "      <td>0.0895</td>\n",
              "      <td>0.0395</td>\n",
              "      <td>0.055</td>\n",
              "      <td>7</td>\n",
              "    </tr>\n",
              "  </tbody>\n",
              "</table>\n",
              "</div>\n",
              "    <div class=\"colab-df-buttons\">\n",
              "\n",
              "  <div class=\"colab-df-container\">\n",
              "    <button class=\"colab-df-convert\" onclick=\"convertToInteractive('df-518aacea-f7ca-42cd-8ca7-f68034c73c40')\"\n",
              "            title=\"Convert this dataframe to an interactive table.\"\n",
              "            style=\"display:none;\">\n",
              "\n",
              "  <svg xmlns=\"http://www.w3.org/2000/svg\" height=\"24px\" viewBox=\"0 -960 960 960\">\n",
              "    <path d=\"M120-120v-720h720v720H120Zm60-500h600v-160H180v160Zm220 220h160v-160H400v160Zm0 220h160v-160H400v160ZM180-400h160v-160H180v160Zm440 0h160v-160H620v160ZM180-180h160v-160H180v160Zm440 0h160v-160H620v160Z\"/>\n",
              "  </svg>\n",
              "    </button>\n",
              "\n",
              "  <style>\n",
              "    .colab-df-container {\n",
              "      display:flex;\n",
              "      gap: 12px;\n",
              "    }\n",
              "\n",
              "    .colab-df-convert {\n",
              "      background-color: #E8F0FE;\n",
              "      border: none;\n",
              "      border-radius: 50%;\n",
              "      cursor: pointer;\n",
              "      display: none;\n",
              "      fill: #1967D2;\n",
              "      height: 32px;\n",
              "      padding: 0 0 0 0;\n",
              "      width: 32px;\n",
              "    }\n",
              "\n",
              "    .colab-df-convert:hover {\n",
              "      background-color: #E2EBFA;\n",
              "      box-shadow: 0px 1px 2px rgba(60, 64, 67, 0.3), 0px 1px 3px 1px rgba(60, 64, 67, 0.15);\n",
              "      fill: #174EA6;\n",
              "    }\n",
              "\n",
              "    .colab-df-buttons div {\n",
              "      margin-bottom: 4px;\n",
              "    }\n",
              "\n",
              "    [theme=dark] .colab-df-convert {\n",
              "      background-color: #3B4455;\n",
              "      fill: #D2E3FC;\n",
              "    }\n",
              "\n",
              "    [theme=dark] .colab-df-convert:hover {\n",
              "      background-color: #434B5C;\n",
              "      box-shadow: 0px 1px 3px 1px rgba(0, 0, 0, 0.15);\n",
              "      filter: drop-shadow(0px 1px 2px rgba(0, 0, 0, 0.3));\n",
              "      fill: #FFFFFF;\n",
              "    }\n",
              "  </style>\n",
              "\n",
              "    <script>\n",
              "      const buttonEl =\n",
              "        document.querySelector('#df-518aacea-f7ca-42cd-8ca7-f68034c73c40 button.colab-df-convert');\n",
              "      buttonEl.style.display =\n",
              "        google.colab.kernel.accessAllowed ? 'block' : 'none';\n",
              "\n",
              "      async function convertToInteractive(key) {\n",
              "        const element = document.querySelector('#df-518aacea-f7ca-42cd-8ca7-f68034c73c40');\n",
              "        const dataTable =\n",
              "          await google.colab.kernel.invokeFunction('convertToInteractive',\n",
              "                                                    [key], {});\n",
              "        if (!dataTable) return;\n",
              "\n",
              "        const docLinkHtml = 'Like what you see? Visit the ' +\n",
              "          '<a target=\"_blank\" href=https://colab.research.google.com/notebooks/data_table.ipynb>data table notebook</a>'\n",
              "          + ' to learn more about interactive tables.';\n",
              "        element.innerHTML = '';\n",
              "        dataTable['output_type'] = 'display_data';\n",
              "        await google.colab.output.renderOutput(dataTable, element);\n",
              "        const docLink = document.createElement('div');\n",
              "        docLink.innerHTML = docLinkHtml;\n",
              "        element.appendChild(docLink);\n",
              "      }\n",
              "    </script>\n",
              "  </div>\n",
              "\n",
              "\n",
              "<div id=\"df-24fc7829-a2a2-4959-938b-96c46010771d\">\n",
              "  <button class=\"colab-df-quickchart\" onclick=\"quickchart('df-24fc7829-a2a2-4959-938b-96c46010771d')\"\n",
              "            title=\"Suggest charts\"\n",
              "            style=\"display:none;\">\n",
              "\n",
              "<svg xmlns=\"http://www.w3.org/2000/svg\" height=\"24px\"viewBox=\"0 0 24 24\"\n",
              "     width=\"24px\">\n",
              "    <g>\n",
              "        <path d=\"M19 3H5c-1.1 0-2 .9-2 2v14c0 1.1.9 2 2 2h14c1.1 0 2-.9 2-2V5c0-1.1-.9-2-2-2zM9 17H7v-7h2v7zm4 0h-2V7h2v10zm4 0h-2v-4h2v4z\"/>\n",
              "    </g>\n",
              "</svg>\n",
              "  </button>\n",
              "\n",
              "<style>\n",
              "  .colab-df-quickchart {\n",
              "      --bg-color: #E8F0FE;\n",
              "      --fill-color: #1967D2;\n",
              "      --hover-bg-color: #E2EBFA;\n",
              "      --hover-fill-color: #174EA6;\n",
              "      --disabled-fill-color: #AAA;\n",
              "      --disabled-bg-color: #DDD;\n",
              "  }\n",
              "\n",
              "  [theme=dark] .colab-df-quickchart {\n",
              "      --bg-color: #3B4455;\n",
              "      --fill-color: #D2E3FC;\n",
              "      --hover-bg-color: #434B5C;\n",
              "      --hover-fill-color: #FFFFFF;\n",
              "      --disabled-bg-color: #3B4455;\n",
              "      --disabled-fill-color: #666;\n",
              "  }\n",
              "\n",
              "  .colab-df-quickchart {\n",
              "    background-color: var(--bg-color);\n",
              "    border: none;\n",
              "    border-radius: 50%;\n",
              "    cursor: pointer;\n",
              "    display: none;\n",
              "    fill: var(--fill-color);\n",
              "    height: 32px;\n",
              "    padding: 0;\n",
              "    width: 32px;\n",
              "  }\n",
              "\n",
              "  .colab-df-quickchart:hover {\n",
              "    background-color: var(--hover-bg-color);\n",
              "    box-shadow: 0 1px 2px rgba(60, 64, 67, 0.3), 0 1px 3px 1px rgba(60, 64, 67, 0.15);\n",
              "    fill: var(--button-hover-fill-color);\n",
              "  }\n",
              "\n",
              "  .colab-df-quickchart-complete:disabled,\n",
              "  .colab-df-quickchart-complete:disabled:hover {\n",
              "    background-color: var(--disabled-bg-color);\n",
              "    fill: var(--disabled-fill-color);\n",
              "    box-shadow: none;\n",
              "  }\n",
              "\n",
              "  .colab-df-spinner {\n",
              "    border: 2px solid var(--fill-color);\n",
              "    border-color: transparent;\n",
              "    border-bottom-color: var(--fill-color);\n",
              "    animation:\n",
              "      spin 1s steps(1) infinite;\n",
              "  }\n",
              "\n",
              "  @keyframes spin {\n",
              "    0% {\n",
              "      border-color: transparent;\n",
              "      border-bottom-color: var(--fill-color);\n",
              "      border-left-color: var(--fill-color);\n",
              "    }\n",
              "    20% {\n",
              "      border-color: transparent;\n",
              "      border-left-color: var(--fill-color);\n",
              "      border-top-color: var(--fill-color);\n",
              "    }\n",
              "    30% {\n",
              "      border-color: transparent;\n",
              "      border-left-color: var(--fill-color);\n",
              "      border-top-color: var(--fill-color);\n",
              "      border-right-color: var(--fill-color);\n",
              "    }\n",
              "    40% {\n",
              "      border-color: transparent;\n",
              "      border-right-color: var(--fill-color);\n",
              "      border-top-color: var(--fill-color);\n",
              "    }\n",
              "    60% {\n",
              "      border-color: transparent;\n",
              "      border-right-color: var(--fill-color);\n",
              "    }\n",
              "    80% {\n",
              "      border-color: transparent;\n",
              "      border-right-color: var(--fill-color);\n",
              "      border-bottom-color: var(--fill-color);\n",
              "    }\n",
              "    90% {\n",
              "      border-color: transparent;\n",
              "      border-bottom-color: var(--fill-color);\n",
              "    }\n",
              "  }\n",
              "</style>\n",
              "\n",
              "  <script>\n",
              "    async function quickchart(key) {\n",
              "      const quickchartButtonEl =\n",
              "        document.querySelector('#' + key + ' button');\n",
              "      quickchartButtonEl.disabled = true;  // To prevent multiple clicks.\n",
              "      quickchartButtonEl.classList.add('colab-df-spinner');\n",
              "      try {\n",
              "        const charts = await google.colab.kernel.invokeFunction(\n",
              "            'suggestCharts', [key], {});\n",
              "      } catch (error) {\n",
              "        console.error('Error during call to suggestCharts:', error);\n",
              "      }\n",
              "      quickchartButtonEl.classList.remove('colab-df-spinner');\n",
              "      quickchartButtonEl.classList.add('colab-df-quickchart-complete');\n",
              "    }\n",
              "    (() => {\n",
              "      let quickchartButtonEl =\n",
              "        document.querySelector('#df-24fc7829-a2a2-4959-938b-96c46010771d button');\n",
              "      quickchartButtonEl.style.display =\n",
              "        google.colab.kernel.accessAllowed ? 'block' : 'none';\n",
              "    })();\n",
              "  </script>\n",
              "</div>\n",
              "\n",
              "    </div>\n",
              "  </div>\n"
            ],
            "application/vnd.google.colaboratory.intrinsic+json": {
              "type": "dataframe",
              "variable_name": "abalone_df",
              "summary": "{\n  \"name\": \"abalone_df\",\n  \"rows\": 4177,\n  \"fields\": [\n    {\n      \"column\": \"Length\",\n      \"properties\": {\n        \"dtype\": \"number\",\n        \"std\": 0.12009291256479998,\n        \"min\": 0.075,\n        \"max\": 0.815,\n        \"num_unique_values\": 134,\n        \"samples\": [\n          0.815,\n          0.65,\n          0.29\n        ],\n        \"semantic_type\": \"\",\n        \"description\": \"\"\n      }\n    },\n    {\n      \"column\": \"Diameter\",\n      \"properties\": {\n        \"dtype\": \"number\",\n        \"std\": 0.09923986613365918,\n        \"min\": 0.055,\n        \"max\": 0.65,\n        \"num_unique_values\": 111,\n        \"samples\": [\n          0.09,\n          0.35,\n          0.3\n        ],\n        \"semantic_type\": \"\",\n        \"description\": \"\"\n      }\n    },\n    {\n      \"column\": \"Height\",\n      \"properties\": {\n        \"dtype\": \"number\",\n        \"std\": 0.04182705660725703,\n        \"min\": 0.0,\n        \"max\": 1.13,\n        \"num_unique_values\": 51,\n        \"samples\": [\n          0.235,\n          0.035,\n          0.015\n        ],\n        \"semantic_type\": \"\",\n        \"description\": \"\"\n      }\n    },\n    {\n      \"column\": \"WholeWeight\",\n      \"properties\": {\n        \"dtype\": \"number\",\n        \"std\": 0.49038901823099723,\n        \"min\": 0.002,\n        \"max\": 2.8255,\n        \"num_unique_values\": 2429,\n        \"samples\": [\n          1.2825,\n          1.09,\n          0.131\n        ],\n        \"semantic_type\": \"\",\n        \"description\": \"\"\n      }\n    },\n    {\n      \"column\": \"ShuckedWeight\",\n      \"properties\": {\n        \"dtype\": \"number\",\n        \"std\": 0.22196294903322014,\n        \"min\": 0.001,\n        \"max\": 1.488,\n        \"num_unique_values\": 1515,\n        \"samples\": [\n          0.2105,\n          0.0645,\n          0.476\n        ],\n        \"semantic_type\": \"\",\n        \"description\": \"\"\n      }\n    },\n    {\n      \"column\": \"VisceraWeight\",\n      \"properties\": {\n        \"dtype\": \"number\",\n        \"std\": 0.10961425025968442,\n        \"min\": 0.0005,\n        \"max\": 0.76,\n        \"num_unique_values\": 880,\n        \"samples\": [\n          0.0645,\n          0.0095,\n          0.1115\n        ],\n        \"semantic_type\": \"\",\n        \"description\": \"\"\n      }\n    },\n    {\n      \"column\": \"ShellWeight\",\n      \"properties\": {\n        \"dtype\": \"number\",\n        \"std\": 0.13920266952238575,\n        \"min\": 0.0015,\n        \"max\": 1.005,\n        \"num_unique_values\": 926,\n        \"samples\": [\n          0.3745,\n          0.2825,\n          0.49\n        ],\n        \"semantic_type\": \"\",\n        \"description\": \"\"\n      }\n    },\n    {\n      \"column\": \"Rings\",\n      \"properties\": {\n        \"dtype\": \"number\",\n        \"std\": 3,\n        \"min\": 1,\n        \"max\": 29,\n        \"num_unique_values\": 28,\n        \"samples\": [\n          11,\n          27,\n          14\n        ],\n        \"semantic_type\": \"\",\n        \"description\": \"\"\n      }\n    }\n  ]\n}"
            }
          },
          "metadata": {},
          "execution_count": 67
        }
      ]
    },
    {
      "cell_type": "markdown",
      "source": [
        "## Training and Test Data"
      ],
      "metadata": {
        "id": "kFY7MPuT8NoA"
      }
    },
    {
      "cell_type": "markdown",
      "source": [],
      "metadata": {
        "id": "EtmE3QKbBQym"
      }
    },
    {
      "cell_type": "code",
      "source": [
        "# Separate features (X) and target (y)\n",
        "X = abalone_df.drop(columns=[\"Rings\"]).values  # Remove column names by using .values\n",
        "y = abalone_df[\"Rings\"].values                 # Extract target values"
      ],
      "metadata": {
        "id": "ObjwvMn79D8B"
      },
      "execution_count": 68,
      "outputs": []
    },
    {
      "cell_type": "markdown",
      "source": [
        "Split the dataset into training (70%) and testing (30%) sets."
      ],
      "metadata": {
        "id": "qPEymuBsA0HO"
      }
    },
    {
      "cell_type": "code",
      "source": [
        "X_train, X_test, y_train, y_test = train_test_split(X, y, test_size=0.3, random_state=333)"
      ],
      "metadata": {
        "id": "aeqJXWdoAzfx"
      },
      "execution_count": 69,
      "outputs": []
    },
    {
      "cell_type": "code",
      "source": [
        "# The following lines have been used purely for debugging/verification\n",
        "\n",
        "print(X_train.shape)\n",
        "print(X_test.shape)\n",
        "print(y_train.shape)\n",
        "print(y_test.shape)"
      ],
      "metadata": {
        "colab": {
          "base_uri": "https://localhost:8080/"
        },
        "id": "2eEZ28CWsutJ",
        "outputId": "77ee0916-3b5f-4de8-caa2-bd0b933c47af"
      },
      "execution_count": 70,
      "outputs": [
        {
          "output_type": "stream",
          "name": "stdout",
          "text": [
            "(2923, 7)\n",
            "(1254, 7)\n",
            "(2923,)\n",
            "(1254,)\n"
          ]
        }
      ]
    },
    {
      "cell_type": "markdown",
      "source": [
        "## Implementing the $k$-Nearest Neighbours Algorithm"
      ],
      "metadata": {
        "id": "nQSO7fZpnghC"
      }
    },
    {
      "cell_type": "markdown",
      "source": [
        "Create a new abalone data point, named `new_abalone`."
      ],
      "metadata": {
        "id": "rUiK3Px5noaJ"
      }
    },
    {
      "cell_type": "code",
      "source": [
        "new_abalone = np.array([0.569552, 0.446407, 0.154437, 1.016849, 0.439051, 0.222526, 0.291208])"
      ],
      "metadata": {
        "id": "WW_djNVBnulk"
      },
      "execution_count": 71,
      "outputs": []
    },
    {
      "cell_type": "markdown",
      "source": [
        "Using `np.linalg.norm()`, we compute the Euclidean distance between each row of `X_train` and the new data point, and store them in a variable named `distances`."
      ],
      "metadata": {
        "id": "oJz2NvT7rlCf"
      }
    },
    {
      "cell_type": "code",
      "source": [
        "distances = np.linalg.norm(X_train - new_abalone, axis=1)"
      ],
      "metadata": {
        "id": "ULZOCnSZsDBQ"
      },
      "execution_count": 72,
      "outputs": []
    },
    {
      "cell_type": "markdown",
      "source": [
        "We now sort the values in `distances`, befure using `np.argsort` to get the sorted indices of the elements in `distances`, of which we select the first three, which represent the _\"three closest neighbours\"_."
      ],
      "metadata": {
        "id": "95R7lZRjsD-u"
      }
    },
    {
      "cell_type": "code",
      "source": [
        "k = 3\n",
        "nearest_neighbours = np.argsort(distances)[:k]"
      ],
      "metadata": {
        "collapsed": true,
        "id": "i9jaKbG6HM-x"
      },
      "execution_count": 73,
      "outputs": []
    },
    {
      "cell_type": "markdown",
      "source": [
        "We use `nearest_neighbours` to find the respective `nearest_ages`. From these, we select the most-recurring age (i.e. the _\"mode\"_)."
      ],
      "metadata": {
        "id": "NU184nP7HZmF"
      }
    },
    {
      "cell_type": "code",
      "source": [
        "nearest_ages = y_train[nearest_neighbours]\n",
        "\n",
        "# Compute the mode (most frequent age)\n",
        "predicted_age = st.mode(nearest_ages, keepdims=False).mode\n",
        "\n",
        "# The following line has been added purely for debugging/verification\n",
        "print(nearest_ages)\n",
        "print(predicted_age)"
      ],
      "metadata": {
        "colab": {
          "base_uri": "https://localhost:8080/"
        },
        "id": "ipVd1SIoHXNE",
        "outputId": "a36f313e-6f42-49f9-cd3d-2a1e8f72deb9"
      },
      "execution_count": 136,
      "outputs": [
        {
          "output_type": "stream",
          "name": "stdout",
          "text": [
            "[10 11 11]\n",
            "11\n"
          ]
        }
      ]
    },
    {
      "cell_type": "markdown",
      "source": [
        "Here, we face a problem: In the event all three ages are different, `st.mode()` automatically picks the smallest value. We require one of the values to be chosen randomly, which we can do by adding the following snippet of code:"
      ],
      "metadata": {
        "id": "QTF5WiFCIrHf"
      }
    },
    {
      "cell_type": "code",
      "source": [
        "if len(set(nearest_ages)) == len(nearest_ages):  # set(nearest_ages) eliminates repeated elements\n",
        "    predicted_age = np.random.choice(nearest_ages)\n",
        "\n",
        "# The following line has been added purely for debugging/verification\n",
        "print(predicted_age)"
      ],
      "metadata": {
        "colab": {
          "base_uri": "https://localhost:8080/"
        },
        "id": "qafpPDsEJEOs",
        "outputId": "4a82b9c6-df61-47de-fd2a-64960d99b2b2"
      },
      "execution_count": 143,
      "outputs": [
        {
          "output_type": "stream",
          "name": "stdout",
          "text": [
            "8\n"
          ]
        }
      ]
    },
    {
      "cell_type": "markdown",
      "source": [
        "Treating each row in `X_test` as a new abalone dataset, we now repeat the above steps, and store the predicted ages in `predicted_ages_test`."
      ],
      "metadata": {
        "id": "L9CfLS_bSIDG"
      }
    },
    {
      "cell_type": "code",
      "source": [
        "predicted_ages_test = []\n",
        "\n",
        "for i in range(len(X_test)):\n",
        "    distances = np.linalg.norm(X_train - X_test[i], axis=1)\n",
        "    nearest_neighbors = np.argsort(distances)[:k]\n",
        "    nearest_ages = y_train[nearest_neighbors]\n",
        "    predicted_age = st.mode(nearest_ages, keepdims=False).mode\n",
        "\n",
        "    if len(set(nearest_ages)) == len(nearest_ages):  # set(nearest_ages) eliminates repeated elements\n",
        "        predicted_age = np.random.choice(nearest_ages)\n",
        "\n",
        "    predicted_ages_test.append(predicted_age)\n",
        "\n",
        "# The following line has been added purely for debugging/verification.\n",
        "print(predicted_ages_test[:5])"
      ],
      "metadata": {
        "colab": {
          "base_uri": "https://localhost:8080/"
        },
        "id": "cMNlM6skSGnd",
        "outputId": "bc4d9a03-df95-4866-f19e-22cbe714b020"
      },
      "execution_count": 145,
      "outputs": [
        {
          "output_type": "stream",
          "name": "stdout",
          "text": [
            "[8, 7, 10, 8, 7]\n"
          ]
        }
      ]
    },
    {
      "cell_type": "markdown",
      "source": [
        "We now compute the _mean square error_, or _MSE_, of these predictions, using the formula $$\\mathtt{MSE}=\\frac{1}{M}\\sum_{j=0}^{M-1}\\left(\\mathtt{predicted\\_ages\\_test}[j]-\\mathtt{y\\_test}[j]\\right)^2,$$ where $M$ is the length of $\\mathtt{y\\_test}$ column."
      ],
      "metadata": {
        "id": "7Xjc7zDbSsyF"
      }
    },
    {
      "cell_type": "code",
      "source": [
        "MSE = np.mean((predicted_ages_test - y_test) ** 2)\n",
        "\n",
        "print(MSE)"
      ],
      "metadata": {
        "colab": {
          "base_uri": "https://localhost:8080/"
        },
        "id": "2OmKFzutTlQr",
        "outputId": "d2b258e6-4e77-4431-d392-6c42671d5599"
      },
      "execution_count": 146,
      "outputs": [
        {
          "output_type": "stream",
          "name": "stdout",
          "text": [
            "8.10207336523126\n"
          ]
        }
      ]
    },
    {
      "cell_type": "markdown",
      "source": [
        "## Tuning $k$ to Achieve Optimal Performance"
      ],
      "metadata": {
        "id": "w-kMSYRYU1He"
      }
    },
    {
      "cell_type": "markdown",
      "source": [
        "We are to vary $k$ from $1$ to $50$, and compute the $\\mathtt{MSE}$ value for each $k$. We then are required to store these values in an array named `mse_values`. We first initialize the required array, and then create `k_values`, ranging from $1$ to $50$.\n",
        "\n",
        "To get a better estimate of the _\"perfect\"_ $k$, we can increase the range of `k_values`."
      ],
      "metadata": {
        "id": "NrTc9x0zVSZR"
      }
    },
    {
      "cell_type": "code",
      "source": [
        "mse_values = []\n",
        "\n",
        "# Create k_values, from 1 to 50\n",
        "k_values = range(1, 51) # 51 is excluded"
      ],
      "metadata": {
        "id": "xmbrrPu7VWCG"
      },
      "execution_count": 189,
      "outputs": []
    },
    {
      "cell_type": "markdown",
      "source": [
        "Now, we iterate $k$ over `k_values`, compute the $\\mathtt{MSE}$ for each $k$, and append these values to the previously-defined `mse_values`."
      ],
      "metadata": {
        "id": "_3tGJG77VX1A"
      }
    },
    {
      "cell_type": "code",
      "source": [
        "for k in k_values:\n",
        "    predicted_ages_test = []\n",
        "\n",
        "    for i in range(len(X_test)):\n",
        "        distances = np.linalg.norm(X_train - X_test[i], axis=1)\n",
        "        nearest_neighbors = np.argsort(distances)[:k]\n",
        "        nearest_ages = y_train[nearest_neighbors]\n",
        "        predicted_age = st.mode(nearest_ages, keepdims=False).mode\n",
        "\n",
        "        if len(set(nearest_ages)) == len(nearest_ages):  # set(nearest_ages) eliminates repeated elements\n",
        "            predicted_age = np.random.choice(nearest_ages)\n",
        "\n",
        "        predicted_ages_test.append(predicted_age)\n",
        "\n",
        "    predicted_ages_test = np.array(predicted_ages_test)\n",
        "\n",
        "    # Compute MSE for this iteration i.e. for this k\n",
        "    MSE = np.mean((predicted_ages_test - y_test) ** 2)\n",
        "    mse_values.append(MSE)"
      ],
      "metadata": {
        "id": "T2CNM9KDVLDz"
      },
      "execution_count": 190,
      "outputs": []
    },
    {
      "cell_type": "markdown",
      "source": [
        "We then plot `mse_values` against values of $k$."
      ],
      "metadata": {
        "id": "fOrNhd3wWfkB"
      }
    },
    {
      "cell_type": "code",
      "source": [
        "plt.figure(figsize=(10, 5))\n",
        "\n",
        "# Custom-made part for aesthetics, does not affect the actual data\n",
        "n = len(k_values)\n",
        "halfway = n // 2\n",
        "colors_first_half = cm.twilight(np.linspace(0.75,0.25, halfway))\n",
        "colors_second_half = cm.twilight(np.linspace(0.25,0.75, halfway))\n",
        "colors = np.concatenate([colors_first_half, colors_second_half])\n",
        "for i in range(1, len(k_values)):\n",
        "    plt.plot(k_values[i-1:i+1], mse_values[i-1:i+1], color=colors[i], linewidth=2)\n",
        "# Custom-made part ends\n",
        "\n",
        "plt.scatter(k_values, mse_values, color = colors, s=20, zorder=7)\n",
        "\n",
        "# plt.plot(k_values, mse_values, marker='o', linestyle='solid', color = 'darkgreen', markersize=4.5,markerfacecolor='black', markeredgecolor='darkslategrey', lw=1.5)\n",
        "plt.xlabel(\"Number of Neighbors (k)\")\n",
        "plt.ylabel(\"Mean Squared Error (MSE)\")\n",
        "plt.title(\"MSE vs. Number of Neighbors (k) in k-NN\")\n",
        "plt.grid(True, color = 'grey', linestyle = '-', alpha = 0.75)\n",
        "plt.show()"
      ],
      "metadata": {
        "colab": {
          "base_uri": "https://localhost:8080/",
          "height": 487
        },
        "id": "uofSxFXsWpiz",
        "outputId": "38b693e1-7bd4-4397-da9f-ec9eb099e2c3"
      },
      "execution_count": 288,
      "outputs": [
        {
          "output_type": "display_data",
          "data": {
            "text/plain": [
              "<Figure size 1000x500 with 1 Axes>"
            ],
            "image/png": "[encoded data removed]"
          },
          "metadata": {}
        }
      ]
    },
    {
      "cell_type": "markdown",
      "source": [
        "Now, we find the optimal value of $k$, which is the value of $k$ with the lowest corresponding $\\mathtt{MSE}$ value."
      ],
      "metadata": {
        "id": "aKQckChEguEQ"
      }
    },
    {
      "cell_type": "code",
      "source": [
        "optimal_k = k_values[np.argmin(mse_values)]  # Find k with lowest MSE\n",
        "optimal_mse = min(mse_values)  # Minimum MSE value\n",
        "\n",
        "print(f\"Optimal k: {optimal_k}\")\n",
        "print(f\"Minimum MSE: {optimal_mse}\")"
      ],
      "metadata": {
        "colab": {
          "base_uri": "https://localhost:8080/"
        },
        "id": "r7fkl44bhCy3",
        "outputId": "60723228-e5fc-4283-d010-ab2ab51e1e6e"
      },
      "execution_count": 289,
      "outputs": [
        {
          "output_type": "stream",
          "name": "stdout",
          "text": [
            "Optimal k: 39\n",
            "Minimum MSE: 6.3740031897926634\n"
          ]
        }
      ]
    }
  ]
}